{
    "metadata": {
        "kernelspec": {
            "name": "SQL",
            "display_name": "SQL",
            "language": "sql"
        },
        "language_info": {
            "name": "sql",
            "version": ""
        }
    },
    "nbformat_minor": 2,
    "nbformat": 4,
    "cells": [
        {
            "cell_type": "markdown",
            "source": [
                "# **Data Profiling szempontok**\n",
                "\n",
                "- Adattípusok \n",
                "- A szám típusú adatok értékeinek vizsgálata\n",
                "- Termékek darabszáma\n",
                "- NULL értékek keresése oszloponként"
            ],
            "metadata": {
                "language": "sql",
                "azdata_cell_guid": "f6b7a200-6421-48d4-9ac3-a9fed5cec572"
            },
            "attachments": {}
        },
        {
            "cell_type": "code",
            "source": [
                "SELECT COLUMN_NAME, DATA_TYPE\r\n",
                "FROM INFORMATION_SCHEMA.COLUMNS\r\n",
                "WHERE TABLE_NAME = 'Termek';\r\n",
                ""
            ],
            "metadata": {
                "azdata_cell_guid": "4a99729c-56f8-4992-b3ff-b11cb9097fcd",
                "language": "",
                "tags": []
            },
            "outputs": [
                {
                    "output_type": "display_data",
                    "data": {
                        "text/html": "(10 rows affected)"
                    },
                    "metadata": {}
                },
                {
                    "output_type": "display_data",
                    "data": {
                        "text/html": "Total execution time: 00:00:00.075"
                    },
                    "metadata": {}
                },
                {
                    "output_type": "execute_result",
                    "metadata": {},
                    "execution_count": 18,
                    "data": {
                        "application/vnd.dataresource+json": {
                            "schema": {
                                "fields": [
                                    {
                                        "name": "COLUMN_NAME"
                                    },
                                    {
                                        "name": "DATA_TYPE"
                                    }
                                ]
                            },
                            "data": [
                                {
                                    "COLUMN_NAME": "TERMEKKOD",
                                    "DATA_TYPE": "nvarchar"
                                },
                                {
                                    "COLUMN_NAME": "MEGNEVEZES",
                                    "DATA_TYPE": "nvarchar"
                                },
                                {
                                    "COLUMN_NAME": "KAT_ID",
                                    "DATA_TYPE": "int"
                                },
                                {
                                    "COLUMN_NAME": "LISTAAR",
                                    "DATA_TYPE": "float"
                                },
                                {
                                    "COLUMN_NAME": "LEIRAS",
                                    "DATA_TYPE": "nvarchar"
                                },
                                {
                                    "COLUMN_NAME": "RAKTAR_KOD",
                                    "DATA_TYPE": "int"
                                },
                                {
                                    "COLUMN_NAME": "KESZLET",
                                    "DATA_TYPE": "float"
                                },
                                {
                                    "COLUMN_NAME": "MEGYS",
                                    "DATA_TYPE": "nvarchar"
                                },
                                {
                                    "COLUMN_NAME": "FELVITTE",
                                    "DATA_TYPE": "nvarchar"
                                },
                                {
                                    "COLUMN_NAME": "FELVITEL",
                                    "DATA_TYPE": "date"
                                }
                            ]
                        },
                        "text/html": [
                            "<table>",
                            "<tr><th>COLUMN_NAME</th><th>DATA_TYPE</th></tr>",
                            "<tr><td>TERMEKKOD</td><td>nvarchar</td></tr>",
                            "<tr><td>MEGNEVEZES</td><td>nvarchar</td></tr>",
                            "<tr><td>KAT_ID</td><td>int</td></tr>",
                            "<tr><td>LISTAAR</td><td>float</td></tr>",
                            "<tr><td>LEIRAS</td><td>nvarchar</td></tr>",
                            "<tr><td>RAKTAR_KOD</td><td>int</td></tr>",
                            "<tr><td>KESZLET</td><td>float</td></tr>",
                            "<tr><td>MEGYS</td><td>nvarchar</td></tr>",
                            "<tr><td>FELVITTE</td><td>nvarchar</td></tr>",
                            "<tr><td>FELVITEL</td><td>date</td></tr>",
                            "</table>"
                        ]
                    }
                }
            ],
            "execution_count": 18
        },
        {
            "cell_type": "code",
            "source": [
                "SELECT 'Minimum' AS Érték, MIN(LISTAAR) AS Listaár, MIN(KESZLET) AS Készlet  FROM Termek\r\n",
                "UNION ALL\r\n",
                "SELECT 'Átlag', AVG(LISTAAR), AVG(KESZLET) FROM Termek\r\n",
                "UNION ALL\r\n",
                "SELECT 'Medián', MEDIAN(LISTAAR), MEDIAN(KESZLET) FROM Termek\r\n",
                "UNION ALL\r\n",
                "SELECT 'Maximum', MAX(LISTAAR), MAX(KESZLET) FROM Termek\r\n",
                ""
            ],
            "metadata": {
                "azdata_cell_guid": "dbf5cf0f-e862-4535-ad83-109ffd614106",
                "language": "sql",
                "tags": []
            },
            "outputs": [
                {
                    "output_type": "display_data",
                    "data": {
                        "text/html": "Total execution time: 00:00:00"
                    },
                    "metadata": {}
                }
            ],
            "execution_count": 43
        },
        {
            "cell_type": "code",
            "source": [
                "SELECT 'Termékek száma', COUNT(DISTINCT(MEGNEVEZES)) \r\n",
                "FROM Termek"
            ],
            "metadata": {
                "azdata_cell_guid": "b18468c2-41e5-44fe-b726-0cb450221a5e",
                "language": "sql",
                "tags": [
                    "hide_input"
                ]
            },
            "outputs": [
                {
                    "output_type": "display_data",
                    "data": {
                        "text/html": "(1 row affected)"
                    },
                    "metadata": {}
                },
                {
                    "output_type": "display_data",
                    "data": {
                        "text/html": "Total execution time: 00:00:00.025"
                    },
                    "metadata": {}
                },
                {
                    "output_type": "execute_result",
                    "metadata": {},
                    "execution_count": 31,
                    "data": {
                        "application/vnd.dataresource+json": {
                            "schema": {
                                "fields": [
                                    {
                                        "name": "(No column name)"
                                    },
                                    {
                                        "name": "(No column name)"
                                    }
                                ]
                            },
                            "data": [
                                {
                                    "(No column name)": "543"
                                }
                            ]
                        },
                        "text/html": [
                            "<table>",
                            "<tr><th>(No column name)</th><th>(No column name)</th></tr>",
                            "<tr><td>Termékek száma</td><td>543</td></tr>",
                            "</table>"
                        ]
                    }
                }
            ],
            "execution_count": 31
        },
        {
            "cell_type": "code",
            "source": [
                "SELECT 'Termékkód' AS Oszlopnév, COUNT(*) - COUNT(TERMEKKOD) AS 'Üres cellák' FROM Termek \r\n",
                "UNION ALL\r\n",
                "SELECT 'Megnevezés', COUNT(*) - COUNT(MEGNEVEZES) FROM Termek \r\n",
                "UNION ALL\r\n",
                "SELECT 'Kategória ID', COUNT(*) - COUNT(KAT_ID) FROM Termek \r\n",
                "UNION ALL\r\n",
                "SELECT 'Listaár', COUNT(*) - COUNT(LISTAAR) FROM Termek \r\n",
                "UNION ALL\r\n",
                "SELECT 'Leirás', COUNT(*) - COUNT(LEIRAS) FROM Termek \r\n",
                "UNION ALL\r\n",
                "SELECT 'Raktár kód', COUNT(*) - COUNT(RAKTAR_KOD) FROM Termek \r\n",
                "UNION ALL\r\n",
                "SELECT 'Készlet', COUNT(*) - COUNT(KESZLET) FROM Termek \r\n",
                "UNION ALL\r\n",
                "SELECT 'Egység', COUNT(*) - COUNT(MEGYS) FROM Termek \r\n",
                "UNION ALL\r\n",
                "SELECT 'Felvitte', COUNT(*) - COUNT(FELVITTE) FROM Termek \r\n",
                "UNION ALL\r\n",
                "SELECT 'Felvitel', COUNT(*) - COUNT(FELVITEL) FROM Termek \r\n",
                "UNION ALL\r\n",
                "\r\n",
                ""
            ],
            "metadata": {
                "azdata_cell_guid": "7348e3cd-69b1-4e8a-98ff-25d4e9ba650f",
                "language": "sql",
                "tags": []
            },
            "outputs": [
                {
                    "output_type": "display_data",
                    "data": {
                        "text/html": "Total execution time: 00:00:00"
                    },
                    "metadata": {}
                }
            ],
            "execution_count": 41
        }
    ]
}