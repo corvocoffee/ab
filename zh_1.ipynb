{
    "metadata": {
        "kernelspec": {
            "name": "SQL",
            "display_name": "SQL",
            "language": "sql"
        },
        "language_info": {
            "name": "sql",
            "version": ""
        }
    },
    "nbformat_minor": 2,
    "nbformat": 4,
    "cells": [
        {
            "cell_type": "code",
            "source": [
                "SELECT TIPUS, \r\n",
                "CSILLAGOK_SZAMA AS \"Csillagok száma\", \r\n",
                "ROUND(AVG('CSILLAGOK_SZAMA'),0) AS 'Átlagos csillagszám'\r\n",
                "FROM SZALLASHELY\r\n",
                "WHERE 'CSILLAGOK_SZAMA' >= 3 AND TIPUS <> 'panzió'"
            ],
            "metadata": {
                "azdata_cell_guid": "838bb974-c485-4a36-85cd-bd51957867d3",
                "language": "sql"
            },
            "outputs": [],
            "execution_count": null
        },
        {
            "cell_type": "code",
            "source": [
                "SELECT SZALLAS_NEV AS \"Szállás neve\", COUNT(SZALLAS_NEV) AS 'Foglalások száma'\r\n",
                "FROM SZALLASHELY"
            ],
            "metadata": {
                "azdata_cell_guid": "3f7d2196-4d22-4522-8d56-246380628607",
                "language": "sql",
                "tags": []
            },
            "outputs": [],
            "execution_count": null
        }
    ]
}